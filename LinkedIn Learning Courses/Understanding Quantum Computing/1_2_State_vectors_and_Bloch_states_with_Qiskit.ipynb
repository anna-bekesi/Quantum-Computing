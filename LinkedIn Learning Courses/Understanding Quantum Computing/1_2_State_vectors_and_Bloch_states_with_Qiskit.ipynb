{
 "cells": [
  {
   "cell_type": "code",
   "execution_count": 16,
   "metadata": {},
   "outputs": [],
   "source": [
    "#Remove or comment this section after initial run to reduce runtime\n",
    "\n",
    "# %pip install qiskit\n",
    "# %pip install qiskit qiskit-aer\n",
    "# %pip install matplotlib   "
   ]
  },
  {
   "cell_type": "code",
   "execution_count": 17,
   "metadata": {},
   "outputs": [],
   "source": [
    "from qiskit import *\n",
    "from qiskit.visualization import plot_histogram, array_to_latex, plot_bloch_multivector\n",
    "from qiskit_aer import AerSimulator\n",
    "from qiskit import QuantumCircuit, transpile\n",
    "import matplotlib.pyplot as plt\n",
    "%matplotlib inline"
   ]
  },
  {
   "cell_type": "code",
   "execution_count": null,
   "metadata": {},
   "outputs": [],
   "source": [
    "#create a quantum register\n",
    "qr = QuantumRegister(1)\n",
    "#create a classical register\n",
    "cr = ClassicalRegister(1)\n",
    "\n",
    "#combine the two registers into a quantum circuit\n",
    "circuit= QuantumCircuit(qr,cr)\n",
    "\n",
    "#apply a Hadamard gate\n",
    "circuit.h(qr)\n",
    "\n",
    "circuit.measure(qr,cr)\n"
   ]
  },
  {
   "cell_type": "code",
   "execution_count": null,
   "metadata": {},
   "outputs": [],
   "source": [
    "circuit.save_statevector()\n",
    "simulator = AerSimulator(method='statevector')\n",
    "result = simulator.run(circuit).result()\n",
    "statevector = result.get_statevector(circuit)\n",
    "\n",
    "#Display result\n",
    "#print(statevector)\n",
    "\n",
    "#Display result in LaTex\n",
    "array_to_latex(statevector)\n",
    "\n",
    "\n"
   ]
  },
  {
   "cell_type": "code",
   "execution_count": null,
   "metadata": {},
   "outputs": [],
   "source": [
    "bloch_sphere=plot_bloch_multivector(statevector)\n",
    "plt.show()"
   ]
  },
  {
   "cell_type": "code",
   "execution_count": null,
   "metadata": {},
   "outputs": [],
   "source": []
  }
 ],
 "metadata": {
  "kernelspec": {
   "display_name": "Python 3",
   "language": "python",
   "name": "python3"
  },
  "language_info": {
   "codemirror_mode": {
    "name": "ipython",
    "version": 3
   },
   "file_extension": ".py",
   "mimetype": "text/x-python",
   "name": "python",
   "nbconvert_exporter": "python",
   "pygments_lexer": "ipython3",
   "version": "3.12.6"
  }
 },
 "nbformat": 4,
 "nbformat_minor": 2
}
