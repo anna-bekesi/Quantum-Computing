{
 "cells": [
  {
   "cell_type": "code",
   "execution_count": 135,
   "metadata": {},
   "outputs": [],
   "source": [
    "#Remove or comment this section after initial run to reduce runtime\n",
    "\n",
    "# %pip install qiskit\n",
    "# %pip install qiskit qiskit-aer\n",
    "# %pip install matplotlib   "
   ]
  },
  {
   "cell_type": "code",
   "execution_count": 136,
   "metadata": {},
   "outputs": [],
   "source": [
    "from qiskit import *\n",
    "from qiskit.visualization import plot_histogram, array_to_latex, plot_bloch_multivector\n",
    "from qiskit_aer import AerSimulator\n",
    "from qiskit import QuantumCircuit, transpile\n",
    "import matplotlib.pyplot as plt\n",
    "%matplotlib inline"
   ]
  },
  {
   "cell_type": "code",
   "execution_count": 137,
   "metadata": {},
   "outputs": [],
   "source": [
    "# #Long version of creating a circuit\n",
    "\n",
    "# #create a quantum register for 2 qbits\n",
    "# qr = QuantumRegister(2)\n",
    "# #create a classical register for them\n",
    "# cr = ClassicalRegister(2)\n",
    "\n",
    "# #combine the two registers into a quantum circuit\n",
    "# circuit= QuantumCircuit(qr,cr)\n",
    "\n",
    "# #apply a Hadamard gate\n",
    "# circuit.h(qr)\n",
    "\n",
    "# circuit.measure(qr,cr)\n"
   ]
  },
  {
   "cell_type": "code",
   "execution_count": 138,
   "metadata": {},
   "outputs": [],
   "source": [
    "#Short version of creating a circuit\n",
    "\n",
    "circuit= QuantumCircuit(2)\n",
    "\n",
    "#Apply a Hadamard gate. The 0 value represents that the Hadamard function will aplly to the first qbit. If the value is 1 it will apply on the second qbit and so on...\n",
    "circuit.h(0)\n",
    "\n",
    "circuit.measure_all()"
   ]
  },
  {
   "cell_type": "code",
   "execution_count": 139,
   "metadata": {},
   "outputs": [],
   "source": [
    "# # Statevector simulator\n",
    "\n",
    "# circuit.save_statevector()\n",
    "# simulator = AerSimulator(method='statevector')\n",
    "# result = simulator.run(circuit).result()\n",
    "# statevector = result.get_statevector(circuit)\n",
    "\n",
    "# #Display result\n",
    "# #print(statevector)\n",
    "\n",
    "# #Display result in LaTex format\n",
    "# array_to_latex(statevector)\n",
    "\n",
    "\n"
   ]
  },
  {
   "cell_type": "code",
   "execution_count": 140,
   "metadata": {},
   "outputs": [],
   "source": [
    "#Plot Bloch sphere\n",
    "\n",
    "# bloch_sphere=plot_bloch_multivector(statevector)\n",
    "# plt.show()"
   ]
  },
  {
   "cell_type": "code",
   "execution_count": null,
   "metadata": {},
   "outputs": [],
   "source": [
    "# QASM simulator\n",
    "\n",
    "simulator = AerSimulator()\n",
    "result = simulator.run(circuit, shots = 1024).result()\n",
    "hist = plot_histogram(result.get_counts())"
   ]
  },
  {
   "cell_type": "code",
   "execution_count": null,
   "metadata": {},
   "outputs": [],
   "source": [
    "#Plot histogram of QASM simulato results\n",
    "print(result.get_counts())"
   ]
  }
 ],
 "metadata": {
  "kernelspec": {
   "display_name": "Python 3",
   "language": "python",
   "name": "python3"
  },
  "language_info": {
   "codemirror_mode": {
    "name": "ipython",
    "version": 3
   },
   "file_extension": ".py",
   "mimetype": "text/x-python",
   "name": "python",
   "nbconvert_exporter": "python",
   "pygments_lexer": "ipython3",
   "version": "3.12.6"
  }
 },
 "nbformat": 4,
 "nbformat_minor": 2
}
