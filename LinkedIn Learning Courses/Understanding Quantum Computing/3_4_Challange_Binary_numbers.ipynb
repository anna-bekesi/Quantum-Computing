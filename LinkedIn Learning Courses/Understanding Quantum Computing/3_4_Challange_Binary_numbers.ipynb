{
 "cells": [
  {
   "cell_type": "code",
   "execution_count": 11,
   "metadata": {},
   "outputs": [],
   "source": [
    "#Remove or comment this section after initial run to reduce runtime\n",
    "\n",
    "# %pip install qiskit\n",
    "# %pip install qiskit qiskit-aer\n",
    "# %pip install matplotlib   \n",
    "\n",
    "#Import LaTex visualization for plotting the circuit\n",
    "#%pip install pylatexenc\n",
    "\n",
    "#Import Seaborn to be able to import plot_state_qsphere\n",
    "%pip install pylatexenc"
   ]
  },
  {
   "cell_type": "code",
   "execution_count": 12,
   "metadata": {},
   "outputs": [],
   "source": [
    "from qiskit import *\n",
    "from qiskit.visualization import plot_state_qsphere, array_to_latex\n",
    "from qiskit_aer import AerSimulator\n",
    "from qiskit import QuantumCircuit, transpile\n",
    "from math import pi\n",
    "import matplotlib.pyplot as plt\n",
    "\n",
    "%matplotlib inline"
   ]
  },
  {
   "cell_type": "code",
   "execution_count": null,
   "metadata": {},
   "outputs": [],
   "source": [
    "#Create a quantum circuit with 4 qbits. By default qiskit creates an initial state of |0000>\n",
    "\n",
    "circuit= QuantumCircuit(4)\n",
    "\n",
    "#apply X-gate to the qbits to flip qbit 0,2 & 3 to achieve |1101>\n",
    "circuit.x([0,2,3])\n",
    "\n",
    "visual=circuit.draw(output='mpl')\n"
   ]
  },
  {
   "cell_type": "code",
   "execution_count": null,
   "metadata": {},
   "outputs": [],
   "source": [
    "circuit.save_statevector()\n",
    "simulator = AerSimulator(method='statevector')\n",
    "result = simulator.run(circuit).result()\n",
    "statevector = result.get_statevector(circuit)\n",
    "\n",
    "#Display result\n",
    "print(statevector)\n",
    "\n",
    "#Display result in LaTex\n",
    "array_to_latex(statevector)\n",
    "\n",
    "\n"
   ]
  },
  {
   "cell_type": "code",
   "execution_count": null,
   "metadata": {},
   "outputs": [],
   "source": [
    "bloch_sphere=plot_state_qsphere(statevector)\n",
    "plt.show()"
   ]
  },
  {
   "cell_type": "code",
   "execution_count": null,
   "metadata": {},
   "outputs": [],
   "source": []
  }
 ],
 "metadata": {
  "kernelspec": {
   "display_name": "Python 3",
   "language": "python",
   "name": "python3"
  },
  "language_info": {
   "codemirror_mode": {
    "name": "ipython",
    "version": 3
   },
   "file_extension": ".py",
   "mimetype": "text/x-python",
   "name": "python",
   "nbconvert_exporter": "python",
   "pygments_lexer": "ipython3",
   "version": "3.12.6"
  }
 },
 "nbformat": 4,
 "nbformat_minor": 2
}
