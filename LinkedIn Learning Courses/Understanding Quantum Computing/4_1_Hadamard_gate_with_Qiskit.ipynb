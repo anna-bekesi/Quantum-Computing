{
 "cells": [
  {
   "cell_type": "code",
   "execution_count": 64,
   "metadata": {},
   "outputs": [],
   "source": [
    "#Remove or comment this section after initial run to reduce runtime\n",
    "\n",
    "# %pip install qiskit\n",
    "# %pip install qiskit qiskit-aer\n",
    "# %pip install matplotlib   \n",
    "\n",
    "#Import LaTex visualization for plotting the circuit\n",
    "#%pip install pylatexenc\n",
    "\n",
    "#Import Seaborn to be able to import plot_state_qsphere\n",
    "#%pip install pylatexenc"
   ]
  },
  {
   "cell_type": "code",
   "execution_count": 65,
   "metadata": {},
   "outputs": [],
   "source": [
    "from qiskit import *\n",
    "from qiskit.visualization import plot_bloch_multivector, array_to_latex, plot_histogram\n",
    "from qiskit_aer import AerSimulator\n",
    "from qiskit import QuantumCircuit, transpile\n",
    "from math import pi\n",
    "import matplotlib.pyplot as plt\n",
    "\n",
    "%matplotlib inline"
   ]
  },
  {
   "cell_type": "code",
   "execution_count": null,
   "metadata": {},
   "outputs": [],
   "source": [
    "#Create a quantum circuit with 1 qbit and 1 classical bit\n",
    "\n",
    "circuit= QuantumCircuit(1,1)\n",
    "\n",
    "#Add an X-gate\n",
    "#circuit.x(0)\n",
    "\n",
    "#Add Hadamard gate\n",
    "circuit.h(0)\n",
    "\n",
    "#Apply Hadamard gate once more. It is its own inverse, so it should reverse the operation\n",
    "#circuit.h(0)\n",
    "\n",
    "visual=circuit.draw(output='mpl')"
   ]
  },
  {
   "cell_type": "code",
   "execution_count": null,
   "metadata": {},
   "outputs": [],
   "source": [
    "circuit.save_statevector()\n",
    "simulator = AerSimulator(method='statevector')\n",
    "result = simulator.run(circuit).result()\n",
    "statevector = result.get_statevector(circuit)\n",
    "\n",
    "#Display result\n",
    "print(statevector)\n",
    "\n",
    "#Display result in LaTex\n",
    "array_to_latex(statevector)"
   ]
  },
  {
   "cell_type": "code",
   "execution_count": null,
   "metadata": {},
   "outputs": [],
   "source": [
    "bloch_sphere=plot_bloch_multivector(statevector)\n",
    "plt.show()"
   ]
  },
  {
   "cell_type": "code",
   "execution_count": null,
   "metadata": {},
   "outputs": [],
   "source": [
    "circuit.measure(0,0)\n",
    "visual1=circuit.draw(output='mpl')"
   ]
  },
  {
   "cell_type": "code",
   "execution_count": null,
   "metadata": {},
   "outputs": [],
   "source": [
    "simulator = AerSimulator()\n",
    "result = simulator.run(circuit, shots = 1024).result()\n",
    "hist = plot_histogram(result.get_counts())"
   ]
  }
 ],
 "metadata": {
  "kernelspec": {
   "display_name": "Python 3",
   "language": "python",
   "name": "python3"
  },
  "language_info": {
   "codemirror_mode": {
    "name": "ipython",
    "version": 3
   },
   "file_extension": ".py",
   "mimetype": "text/x-python",
   "name": "python",
   "nbconvert_exporter": "python",
   "pygments_lexer": "ipython3",
   "version": "3.12.6"
  }
 },
 "nbformat": 4,
 "nbformat_minor": 2
}
