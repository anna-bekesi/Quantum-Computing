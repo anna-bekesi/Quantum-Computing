{
 "cells": [
  {
   "cell_type": "code",
   "execution_count": 10,
   "metadata": {},
   "outputs": [],
   "source": [
    "#Remove or comment this section after initial run to reduce runtime\n",
    "\n",
    "# %pip install qiskit\n",
    "# %pip install qiskit qiskit-aer\n",
    "# %pip install matplotlib   \n",
    "\n",
    "#Import LaTex visualization for plotting the circuit\n",
    "#%pip install pylatexenc\n",
    "\n",
    "#Import Seaborn to be able to import plot_state_qsphere\n",
    "#%pip install pylatexenc"
   ]
  },
  {
   "cell_type": "code",
   "execution_count": 11,
   "metadata": {},
   "outputs": [],
   "source": [
    "from qiskit import *\n",
    "from qiskit.visualization import plot_bloch_multivector, array_to_latex, plot_histogram\n",
    "from qiskit_aer import AerSimulator\n",
    "from qiskit import QuantumCircuit, transpile\n",
    "from math import pi\n",
    "import matplotlib.pyplot as plt\n",
    "\n",
    "%matplotlib inline"
   ]
  },
  {
   "cell_type": "code",
   "execution_count": null,
   "metadata": {},
   "outputs": [],
   "source": [
    "#Create a quantum circuit with 2 qubits \n",
    "circuit= QuantumCircuit(2)\n",
    "\n",
    "#Create an entangled Bell state pair\n",
    "circuit.h(0)\n",
    "circuit.cx(0,1)\n",
    "\n",
    "#Barrier ensures that all the operations before are completed before continuing\n",
    "circuit.barrier()\n",
    "\n",
    "#Alice encodes the massage and transmits her qubit to Bob\n",
    "\n",
    "match message:='10': #the message\n",
    "    case '00':\n",
    "        circuit.id(0)\n",
    "    case '01':\n",
    "        circuit.z(0)\n",
    "    case '10':\n",
    "        circuit.x(0)\n",
    "    case '11':\n",
    "        circuit.z(0)\n",
    "        circuit.x(0)\n",
    "\n",
    "circuit.barrier()\n",
    "\n",
    "#Bob decodes Alice's message (Bell state measurement - the reverse of creating a Bell state pair)\n",
    "circuit.cx(0,1)\n",
    "circuit.h(0)\n",
    "\n",
    "#Bob measures the qubit to read Alice's message\n",
    "circuit.measure_all()\n",
    "visual=circuit.draw(output='mpl')"
   ]
  },
  {
   "cell_type": "code",
   "execution_count": null,
   "metadata": {},
   "outputs": [],
   "source": [
    "simulator = AerSimulator()\n",
    "result = simulator.run(circuit).result()\n",
    "hist = plot_histogram(result.get_counts())"
   ]
  }
 ],
 "metadata": {
  "kernelspec": {
   "display_name": "Python 3",
   "language": "python",
   "name": "python3"
  },
  "language_info": {
   "codemirror_mode": {
    "name": "ipython",
    "version": 3
   },
   "file_extension": ".py",
   "mimetype": "text/x-python",
   "name": "python",
   "nbconvert_exporter": "python",
   "pygments_lexer": "ipython3",
   "version": "3.12.7"
  }
 },
 "nbformat": 4,
 "nbformat_minor": 2
}
