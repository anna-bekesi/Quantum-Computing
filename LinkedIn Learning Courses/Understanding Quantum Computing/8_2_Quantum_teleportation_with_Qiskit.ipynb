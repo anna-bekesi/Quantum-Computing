{
 "cells": [
  {
   "cell_type": "code",
   "execution_count": 24,
   "metadata": {},
   "outputs": [],
   "source": [
    "#Remove or comment this section after initial run to reduce runtime\n",
    "\n",
    "# %pip install qiskit\n",
    "# %pip install qiskit qiskit-aer\n",
    "# %pip install matplotlib   \n",
    "\n",
    "#Import LaTex visualization for plotting the circuit\n",
    "#%pip install pylatexenc\n",
    "\n",
    "#Import Seaborn to be able to import plot_state_qsphere\n",
    "#%pip install pylatexenc"
   ]
  },
  {
   "cell_type": "code",
   "execution_count": 25,
   "metadata": {},
   "outputs": [],
   "source": [
    "from qiskit import *\n",
    "from qiskit.visualization import plot_bloch_multivector, array_to_latex, plot_histogram\n",
    "from qiskit_aer import AerSimulator\n",
    "from qiskit import QuantumCircuit, transpile\n",
    "from math import pi\n",
    "import matplotlib.pyplot as plt\n",
    "\n",
    "%matplotlib inline"
   ]
  },
  {
   "cell_type": "code",
   "execution_count": null,
   "metadata": {},
   "outputs": [],
   "source": [
    "#Initialize 3-qubit circuit with named registers\n",
    "q0=QuantumRegister(1,name='q0') #Alice's source qubit to teleport\n",
    "q1=QuantumRegister(1,name='q1') #middle qubit sent to Alice (half of Bell state pair)\n",
    "q2=QuantumRegister(1,name='q2') #Bob's destination qubit (half of Bell state pair)\n",
    "\n",
    "#Create an entangled Bell state pair\n",
    "crz=ClassicalRegister(1,name='crz') #Alice's measurement of her source qubit\n",
    "crx=ClassicalRegister(1,name='crx') #Alice's measurement of middle qubit (half of Bell state pair)\n",
    "\n",
    "circuit = QuantumCircuit(q0,q1,q2,crz,crx)\n",
    "\n",
    "#Initialize Alice's qubit (quantum state to teleport)\n",
    "# circuit.rx(pi/3,q0)\n",
    "circuit.x(0)\n",
    "circuit.barrier()\n",
    "\n",
    "#Create Bell state pair\n",
    "circuit.h(q1)\n",
    "circuit.cx(q1,q2)\n",
    "circuit.barrier()\n",
    "\n",
    "#Alice performs Bell state measurement\n",
    "circuit.cx(q0,q1)\n",
    "circuit.h(q0)\n",
    "circuit.barrier()\n",
    "circuit.measure(q0,crz)\n",
    "circuit.measure(q1,crx)\n",
    "circuit.barrier()\n",
    "\n",
    "#Bob transforms his qubit based on measurements results\n",
    "\n",
    "circuit.x(q2).c_if(crx,1) #Apply X gate if cr_x is 1\n",
    "circuit.z(q2).c_if(crz,1) #Apply Z gate if cr_z is 1\n",
    "\n",
    "visual=circuit.draw(output='mpl')"
   ]
  },
  {
   "cell_type": "code",
   "execution_count": null,
   "metadata": {},
   "outputs": [],
   "source": [
    "circuit.save_statevector()\n",
    "simulator = AerSimulator(method='statevector')\n",
    "result = simulator.run(circuit).result()\n",
    "statevector = result.get_statevector(circuit)\n",
    "\n",
    "bloch_sphere=plot_bloch_multivector(statevector)\n",
    "plt.show()"
   ]
  },
  {
   "cell_type": "code",
   "execution_count": null,
   "metadata": {},
   "outputs": [],
   "source": [
    "simulator = AerSimulator()\n",
    "result = simulator.run(circuit).result()\n",
    "hist = plot_histogram(result.get_counts())\n"
   ]
  }
 ],
 "metadata": {
  "kernelspec": {
   "display_name": "Python 3",
   "language": "python",
   "name": "python3"
  },
  "language_info": {
   "codemirror_mode": {
    "name": "ipython",
    "version": 3
   },
   "file_extension": ".py",
   "mimetype": "text/x-python",
   "name": "python",
   "nbconvert_exporter": "python",
   "pygments_lexer": "ipython3",
   "version": "3.12.7"
  }
 },
 "nbformat": 4,
 "nbformat_minor": 2
}
